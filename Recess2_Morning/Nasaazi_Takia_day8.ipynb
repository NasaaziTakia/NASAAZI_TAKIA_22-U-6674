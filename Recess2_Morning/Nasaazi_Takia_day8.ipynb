{
 "cells": [
  {
   "cell_type": "code",
   "execution_count": null,
   "metadata": {},
   "outputs": [],
   "source": [
    "# data science with python\n",
    "#Application of data science\n",
    "import pandas as pd\n",
    "import matplotlib.pyplot as plt\n",
    "\n",
    "#load data set\n",
    "df=pd.read_csv(r\"niceguys.csv\")\n",
    "#display first row of the dataframe\n",
    "print(df.head(5))\n",
    "#step 3 data cleaning reprocessing\n",
    "#check for missing values\n",
    "print(df.isnull().sum())\n",
    "# #fill missing values\n",
    "df['living_allowance'].fillna(df(\"living_allowance\").median(),inplace=True)\n",
    "# #drop a row\n",
    "# dt[~df[]]"
   ]
  },
  {
   "cell_type": "code",
   "execution_count": null,
   "metadata": {},
   "outputs": [],
   "source": [
    "# Step 1: import necessary libraries \n",
    "# Step 2: Loading the dataset\n",
    "# Step 3: Data cleaning and preproceesing\n",
    "# Step 4: EDA Explotary Data Analysis\n",
    "# Distribution students with Age and whether they have girlfriend or boyfriend\n",
    "# Gender who have boyfriend and girlfriend\n",
    "# Do you eat, age, gender and gf and bf\n",
    "# Living allowance and gf and bf\n",
    "# Those with bf nd gf if they have siblings,\n",
    "# Careers and bf or gf\n",
    "\n",
    "# Correction Heatmaps, correlation matrix and plot the heatmaps\n",
    "\n",
    "# Decision making/ insights of the data, data analysis conclusions\n",
    "\n",
    "#1: Age and gf or bf\n",
    "#2: Gender and gf or bf\n",
    "#3: correlation analysis\n",
    "\n",
    "# whatever is in the steps, every question should appear in the conclusion"
   ]
  }
 ],
 "metadata": {
  "kernelspec": {
   "display_name": "Python 3",
   "language": "python",
   "name": "python3"
  },
  "language_info": {
   "codemirror_mode": {
    "name": "ipython",
    "version": 3
   },
   "file_extension": ".py",
   "mimetype": "text/x-python",
   "name": "python",
   "nbconvert_exporter": "python",
   "pygments_lexer": "ipython3",
   "version": "3.11.5"
  }
 },
 "nbformat": 4,
 "nbformat_minor": 2
}
